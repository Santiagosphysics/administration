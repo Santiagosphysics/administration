{
 "cells": [
  {
   "cell_type": "code",
   "execution_count": 3,
   "metadata": {},
   "outputs": [],
   "source": [
    "import pandas as pd"
   ]
  },
  {
   "cell_type": "code",
   "execution_count": 15,
   "metadata": {},
   "outputs": [],
   "source": [
    "def add_name(content):\n",
    "    new_name = input('Write new item: ')\n",
    "    if new_name == '' or new_name == '  ':\n",
    "        return content\n",
    "    else:\n",
    "        content.append(new_name)\n",
    "        return content"
   ]
  },
  {
   "cell_type": "code",
   "execution_count": null,
   "metadata": {},
   "outputs": [
    {
     "name": "stdout",
     "output_type": "stream",
     "text": [
      "CustomControlPickingPaymentofPublicServiceandAdministrationSuppliersContactSolutionary\n"
     ]
    }
   ],
   "source": [
    "with open('./names.txt', 'r') as file:\n",
    "    content = file.read()\n",
    "    content = content.strip().split(',')\n",
    "    content = [i.replace(' ', '') for i in content]\n",
    "    content = [i.replace(\"'\", '') for i in content]    \n",
    "    content = add_name(content=content)\n",
    "\n",
    "list_names = \"\".join(i for i in content)\n",
    "print(list_names)\n"
   ]
  },
  {
   "cell_type": "code",
   "execution_count": 38,
   "metadata": {},
   "outputs": [
    {
     "name": "stdout",
     "output_type": "stream",
     "text": [
      "[\"'Custom Control'\", \" 'Picking'\", \" 'Payment of Public Service and Administration'\", \" 'Suppliers'\", \" 'Contact'\", \" 'Solutionary'\"]\n",
      "['Custom Control', ' Picking', ' Payment of Public Service and Administration', ' Suppliers', ' Contact', ' Solutionary', '.']\n",
      "Custom Control  Picking  Payment of Public Service and Administration  Suppliers  Contact  Solutionary .\n"
     ]
    }
   ],
   "source": [
    "with open('./names.txt', 'r') as file:\n",
    "    content = file.read()\n",
    "    content = content.strip().split(',')\n",
    "    print(content)\n",
    "    # content = [i.replace(' ', '') for i in content]\n",
    "\n",
    "    content = [i.replace(\"'\", '') for i in content]\n",
    "    content = add_name(content=content)\n",
    "    print(content)\n",
    "    list_names = \" \".join(i for i in content)\n",
    "    print(list_names)\n",
    "\n",
    "\n",
    "# with open('./names.txt', 'w') as file:\n",
    "#     print('The file has been cleared')\n",
    "\n",
    "# with open('./names.txt', 'r+') as file:\n",
    "#     file.write(content)\n",
    "\n",
    "\n"
   ]
  },
  {
   "cell_type": "code",
   "execution_count": 18,
   "metadata": {},
   "outputs": [
    {
     "name": "stdout",
     "output_type": "stream",
     "text": [
      "The file has been cleared\n"
     ]
    }
   ],
   "source": [
    "with open('./names.txt', 'w') as file:\n",
    "    print('The file has been cleared')"
   ]
  }
 ],
 "metadata": {
  "kernelspec": {
   "display_name": "nissan",
   "language": "python",
   "name": "python3"
  },
  "language_info": {
   "codemirror_mode": {
    "name": "ipython",
    "version": 3
   },
   "file_extension": ".py",
   "mimetype": "text/x-python",
   "name": "python",
   "nbconvert_exporter": "python",
   "pygments_lexer": "ipython3",
   "version": "3.10.16"
  }
 },
 "nbformat": 4,
 "nbformat_minor": 2
}
